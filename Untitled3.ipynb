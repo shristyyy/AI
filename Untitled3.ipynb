{
 "cells": [
  {
   "cell_type": "code",
   "execution_count": 9,
   "id": "edfe24ba-a221-4c61-bd54-6cdc033649b2",
   "metadata": {},
   "outputs": [
    {
     "ename": "IndexError",
     "evalue": "list index out of range",
     "output_type": "error",
     "traceback": [
      "\u001b[1;31m---------------------------------------------------------------------------\u001b[0m",
      "\u001b[1;31mIndexError\u001b[0m                                Traceback (most recent call last)",
      "Cell \u001b[1;32mIn[9], line 64\u001b[0m\n\u001b[0;32m     61\u001b[0m     \u001b[38;5;28;01mreturn\u001b[39;00m decode_chromosome(best_chromosome)\n\u001b[0;32m     63\u001b[0m \u001b[38;5;28;01mif\u001b[39;00m \u001b[38;5;18m__name__\u001b[39m \u001b[38;5;241m==\u001b[39m \u001b[38;5;124m\"\u001b[39m\u001b[38;5;124m__main__\u001b[39m\u001b[38;5;124m\"\u001b[39m:\n\u001b[1;32m---> 64\u001b[0m     solution \u001b[38;5;241m=\u001b[39m genetic_algorithm()\n\u001b[0;32m     65\u001b[0m     \u001b[38;5;28mprint\u001b[39m(\u001b[38;5;124mf\u001b[39m\u001b[38;5;124m\"\u001b[39m\u001b[38;5;124mSolution found: x = \u001b[39m\u001b[38;5;132;01m{\u001b[39;00msolution\u001b[38;5;132;01m}\u001b[39;00m\u001b[38;5;124m\"\u001b[39m)\n",
      "Cell \u001b[1;32mIn[9], line 51\u001b[0m, in \u001b[0;36mgenetic_algorithm\u001b[1;34m()\u001b[0m\n\u001b[0;32m     49\u001b[0m next_generation \u001b[38;5;241m=\u001b[39m []\n\u001b[0;32m     50\u001b[0m \u001b[38;5;28;01mfor\u001b[39;00m i \u001b[38;5;129;01min\u001b[39;00m \u001b[38;5;28mrange\u001b[39m(\u001b[38;5;241m0\u001b[39m, POPULATION_SIZE, \u001b[38;5;241m2\u001b[39m):\n\u001b[1;32m---> 51\u001b[0m     parent1, parent2 \u001b[38;5;241m=\u001b[39m population[i], population[i \u001b[38;5;241m+\u001b[39m \u001b[38;5;241m1\u001b[39m]\n\u001b[0;32m     52\u001b[0m     child1, child2 \u001b[38;5;241m=\u001b[39m crossover(parent1, parent2)\n\u001b[0;32m     53\u001b[0m     next_generation\u001b[38;5;241m.\u001b[39mappend(mutate(child1))\n",
      "\u001b[1;31mIndexError\u001b[0m: list index out of range"
     ]
    }
   ],
   "source": [
    "import random\n",
    "\n",
    "# Parameters\n",
    "POPULATION_SIZE = 100\n",
    "GENERATIONS = 1000\n",
    "MUTATION_RATE = 0.01\n",
    "CHROMOSOME_LENGTH = 16  # Increased length for more precision\n",
    "X_RANGE = (-10, 10)  # Define the range for x\n",
    "\n",
    "def binary_to_decimal(binary):\n",
    "    return int(binary, 2)\n",
    "\n",
    "def decode_chromosome(chromosome):\n",
    "    max_val = 2**CHROMOSOME_LENGTH - 1\n",
    "    decimal_value = binary_to_decimal(chromosome)\n",
    "    return X_RANGE[0] + (decimal_value / max_val) * (X_RANGE[1] - X_RANGE[0])\n",
    "\n",
    "def fitness(chromosome):\n",
    "    x = decode_chromosome(chromosome)\n",
    "    return abs(2 * x**2 - 5 * x + 3)\n",
    "\n",
    "def initialize_population():\n",
    "    return [''.join(random.choices('01', k=CHROMOSOME_LENGTH)) for _ in range(POPULATION_SIZE)]\n",
    "\n",
    "def selection(population):\n",
    "    selected = []\n",
    "    for _ in range(POPULATION_SIZE):\n",
    "        i, j = random.sample(range(POPULATION_SIZE), 2)\n",
    "        selected.append(min(population[i], population[j], key=fitness))\n",
    "    return selected\n",
    "\n",
    "def crossover(parent1, parent2):\n",
    "    point1, point2 = sorted(random.sample(range(CHROMOSOME_LENGTH), 2))\n",
    "    child1 = parent1[:point1] + parent2[point1:point2] + parent1[point2:]\n",
    "    child2 = parent2[:point1] + parent1[point1:point2] + parent2[point2:]\n",
    "    return child1, child2\n",
    "\n",
    "def mutate(chromosome):\n",
    "    chromosome = list(chromosome)\n",
    "    for i in range(CHROMOSOME_LENGTH):\n",
    "        if random.random() < MUTATION_RATE:\n",
    "            chromosome[i] = '1' if chromosome[i] == '0' else '0'\n",
    "    return ''.join(chromosome)\n",
    "\n",
    "def genetic_algorithm():\n",
    "    population = initialize_population()\n",
    "    for generation in range(GENERATIONS):\n",
    "        population = selection(population)\n",
    "        next_generation = []\n",
    "        for i in range(0, POPULATION_SIZE, 2):\n",
    "            parent1, parent2 = population[i], population[i + 1]\n",
    "            child1, child2 = crossover(parent1, parent2)\n",
    "            next_generation.append(mutate(child1))\n",
    "            next_generation.append(mutate(child2))\n",
    "        population = next_generation\n",
    "        if generation % 100 == 0:\n",
    "            best_chromosome = min(population, key=fitness)\n",
    "            best_x = decode_chromosome(best_chromosome)\n",
    "            print(f\"Generation {generation}: Best x = {best_x}, Fitness = {fitness(best_chromosome)}\")\n",
    "    best_chromosome = min(population, key=fitness)\n",
    "    return decode_chromosome(best_chromosome)\n",
    "\n",
    "if __name__ == \"__main__\":\n",
    "    solution = genetic_algorithm()\n",
    "    print(f\"Solution found: x = {solution}\")\n"
   ]
  },
  {
   "cell_type": "code",
   "execution_count": null,
   "id": "f62d71b7-6861-4de0-b250-35dca8f1159a",
   "metadata": {},
   "outputs": [],
   "source": []
  }
 ],
 "metadata": {
  "kernelspec": {
   "display_name": "Python 3 (ipykernel)",
   "language": "python",
   "name": "python3"
  },
  "language_info": {
   "codemirror_mode": {
    "name": "ipython",
    "version": 3
   },
   "file_extension": ".py",
   "mimetype": "text/x-python",
   "name": "python",
   "nbconvert_exporter": "python",
   "pygments_lexer": "ipython3",
   "version": "3.12.4"
  }
 },
 "nbformat": 4,
 "nbformat_minor": 5
}
